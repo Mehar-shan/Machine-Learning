{
 "cells": [
  {
   "cell_type": "markdown",
   "id": "db80e939",
   "metadata": {},
   "source": [
    "# Niave bayes algorithm\n",
    "`NIAVE-BAYES ALGORITHM` is a classification algorithm based on Bayes' theorem with the assumption that any two events are independent given the value of a third event.\n",
    "`Byes Theorem` is a formula used to calculate the probability of an event given other events, and it is named after the Reverend Thomas Bayes.\n",
    "also use for find the probability of any events.Formula:\n",
    "`P(A|B) = P(B|A) * P(A) / P(B)`\n",
    "where P(A|B) is the probability of event A given event B, P(B|A) is the probability of event B given event A, P(A) is the probability of event A, and P(B) is the probability of event B.\n",
    "p(B|A) is called the conditional probability of B given A, and p(A|B) is called the conditional probability of A given B.\n",
    "p(A) is called the prior probability of A, and p(B) is called the prior probability of B.\n",
    "p(B) is called the prior probability of B, and p(A|B) is called the conditional probability of A given B."
   ]
  },
  {
   "cell_type": "code",
   "execution_count": 5,
   "id": "5368c329",
   "metadata": {},
   "outputs": [],
   "source": [
    "# import libraries\n",
    "import pandas as pd\n",
    "import numpy as np\n",
    "import seaborn as sns\n",
    "import matplotlib.pyplot as plt\n",
    "from sklearn.naive_bayes import GaussianNB, MultinomialNB, BernoulliNB\n",
    "from sklearn.model_selection import train_test_split\n",
    "from sklearn.metrics import accuracy_score, classification_report, confusion_matrix\n",
    "from sklearn.datasets import load_iris\n",
    "\n",
    " \n",
    "\n"
   ]
  },
  {
   "cell_type": "code",
   "execution_count": 11,
   "id": "e72139cb",
   "metadata": {},
   "outputs": [],
   "source": [
    "# load iris data and x and y \n",
    "iris = load_iris()\n",
    "x = iris.data\n",
    "y = iris.target\n",
    "# train test split data\n",
    "x_train,x_test,y_train,y_test=train_test_split(x,y,test_size=0.2,random_state=42)\n"
   ]
  },
  {
   "cell_type": "code",
   "execution_count": 13,
   "id": "e1451175",
   "metadata": {},
   "outputs": [
    {
     "name": "stdout",
     "output_type": "stream",
     "text": [
      "              precision    recall  f1-score   support\n",
      "\n",
      "           0       1.00      1.00      1.00        10\n",
      "           1       1.00      1.00      1.00         9\n",
      "           2       1.00      1.00      1.00        11\n",
      "\n",
      "    accuracy                           1.00        30\n",
      "   macro avg       1.00      1.00      1.00        30\n",
      "weighted avg       1.00      1.00      1.00        30\n",
      "\n",
      "[[10  0  0]\n",
      " [ 0  9  0]\n",
      " [ 0  0 11]]\n",
      "1.0\n"
     ]
    }
   ],
   "source": [
    "# train model\n",
    "model = GaussianNB()\n",
    "model.fit(x_train,y_train)\n",
    "# pridict\n",
    "y_pred=model.predict(x_test)\n",
    "# evaluate the model\n",
    "print(classification_report(y_test,y_pred))\n",
    "print(confusion_matrix(y_test,y_pred))\n",
    "print(accuracy_score(y_test,y_pred))"
   ]
  },
  {
   "cell_type": "code",
   "execution_count": null,
   "id": "58cdb906",
   "metadata": {},
   "outputs": [],
   "source": []
  }
 ],
 "metadata": {
  "kernelspec": {
   "display_name": "python_ML02",
   "language": "python",
   "name": "python3"
  },
  "language_info": {
   "codemirror_mode": {
    "name": "ipython",
    "version": 3
   },
   "file_extension": ".py",
   "mimetype": "text/x-python",
   "name": "python",
   "nbconvert_exporter": "python",
   "pygments_lexer": "ipython3",
   "version": "3.13.2"
  }
 },
 "nbformat": 4,
 "nbformat_minor": 5
}
