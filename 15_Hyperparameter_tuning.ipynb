{
 "cells": [
  {
   "cell_type": "markdown",
   "id": "a6cd5a8e",
   "metadata": {},
   "source": [
    "# Hyperparameter tuning\n",
    "`Hyperparameter tuning` is the process of finding the best set of hyperparameters for a model.\n",
    "`Types` of Hyperparameter tuning:\n",
    "1. Grid Search:is a method for searching the hyperparameter space by evaluating all combinations of hyperparameters.\n",
    "2. Random Search:is a method for searching the hyperparameter space by evaluating a random sample of hyperparameters.\n",
    "3. Bayesian Optimization:is a method for searching the hyperparameter space by optimizing a surrogate model.\n",
    "4. Gradient Descent:is a method for searching the hyperparameter space by optimizing a loss function\n",
    "# Cross-validation\n",
    "`Cross vaalidation` is the process of evaluating the performance of a model on different subsets of the data.\n"
   ]
  },
  {
   "cell_type": "code",
   "execution_count": 26,
   "id": "fdf53708",
   "metadata": {},
   "outputs": [],
   "source": [
    "# import libraries \n",
    "import pandas as pd\n",
    "import numpy as np\n",
    "import matplotlib.pyplot as plt\n",
    "import seaborn as sns\n",
    "from sklearn.model_selection import train_test_split,GridSearchCV\n",
    "from sklearn.metrics import accuracy_score,confusion_matrix,classification_report,precision_score,recall_score,f1_score\n",
    "from sklearn.preprocessing import LabelEncoder\n",
    "from sklearn.tree import DecisionTreeClassifier\n",
    "from sklearn.ensemble import RandomForestClassifier\n",
    "from sklearn.model_selection import RandomizedSearchCV\n",
    "from sklearn.model_selection import GridSearchCV\n"
   ]
  },
  {
   "cell_type": "code",
   "execution_count": 27,
   "id": "fd1b6677",
   "metadata": {},
   "outputs": [],
   "source": [
    "# Load the Data using sciketlearn\n",
    "from sklearn.datasets import load_iris\n",
    "iris = load_iris()\n",
    "X = iris.data\n",
    "y = iris.target\n"
   ]
  },
  {
   "cell_type": "code",
   "execution_count": 28,
   "id": "67e9c76c",
   "metadata": {},
   "outputs": [],
   "source": [
    "# define the model\n",
    "model = RandomForestClassifier()"
   ]
  },
  {
   "cell_type": "code",
   "execution_count": 29,
   "id": "b0bf51df",
   "metadata": {},
   "outputs": [],
   "source": [
    "# create the parameter grid\n",
    "param_grid = {\n",
    "    'n_estimators': [10, 50, 100, 200],\n",
    "    'max_depth': [4, 5, 10, 20],\n",
    "    'criterion': ['gini', 'entropy'],\n",
    "    'bootstrap': [True, False]\n",
    "    \n",
    "   \n",
    "}\n"
   ]
  },
  {
   "cell_type": "code",
   "execution_count": 30,
   "id": "5d4fca96",
   "metadata": {},
   "outputs": [
    {
     "name": "stdout",
     "output_type": "stream",
     "text": [
      "Fitting 5 folds for each of 64 candidates, totalling 320 fits\n",
      "{'bootstrap': True, 'criterion': 'gini', 'max_depth': 4, 'n_estimators': 100}\n",
      "0.9666666666666668\n",
      "CPU times: total: 922 ms\n",
      "Wall time: 12.5 s\n"
     ]
    }
   ],
   "source": [
    "%%time\n",
    "#setup the grid\n",
    "grid = GridSearchCV(\n",
    "    estimator=model,\n",
    "    param_grid=param_grid,\n",
    "    cv=5,\n",
    "    verbose=2,\n",
    "    scoring='accuracy',\n",
    "    n_jobs=-1\n",
    ")\n",
    "# fit the model\n",
    "grid.fit(X,y)\n",
    "# print the best parameters\n",
    "print(grid.best_params_)\n",
    "# print the best score\n",
    "print(grid.best_score_)"
   ]
  },
  {
   "cell_type": "code",
   "execution_count": 39,
   "id": "938cadef",
   "metadata": {},
   "outputs": [
    {
     "name": "stdout",
     "output_type": "stream",
     "text": [
      "Fitting 5 folds for each of 10 candidates, totalling 50 fits\n",
      "{'n_estimators': 50, 'max_depth': 5, 'criterion': 'entropy', 'bootstrap': True}\n",
      "0.9666666666666668\n",
      "CPU times: total: 125 ms\n",
      "Wall time: 1.81 s\n"
     ]
    }
   ],
   "source": [
    "%%time\n",
    "from sklearn.model_selection import RandomizedSearchCV\n",
    "# define the model\n",
    "model_01 = RandomForestClassifier()\n",
    "# create the parameter grid\n",
    "param_grid_01 = {\n",
    "    'n_estimators': [10, 50, 100, 200],\n",
    "    'max_depth': [4, 5, 10, 20],\n",
    "    'criterion': ['gini', 'entropy'],\n",
    "    'bootstrap': [True, False]\n",
    "}\n",
    "#setup the grid\n",
    "grid = RandomizedSearchCV(\n",
    "    estimator=model_01,\n",
    "    param_distributions=param_grid_01,\n",
    "    cv=5,\n",
    "    verbose=2,\n",
    "    scoring='accuracy',\n",
    "    n_jobs=-1\n",
    ")\n",
    "# fit the model\n",
    "grid.fit(X,y)\n",
    "# print the best parameters\n",
    "print(grid.best_params_)\n",
    "# print the best score\n",
    "print(grid.best_score_)"
   ]
  },
  {
   "cell_type": "code",
   "execution_count": null,
   "id": "2e10a787",
   "metadata": {},
   "outputs": [],
   "source": []
  }
 ],
 "metadata": {
  "kernelspec": {
   "display_name": "python_ML",
   "language": "python",
   "name": "python3"
  },
  "language_info": {
   "codemirror_mode": {
    "name": "ipython",
    "version": 3
   },
   "file_extension": ".py",
   "mimetype": "text/x-python",
   "name": "python",
   "nbconvert_exporter": "python",
   "pygments_lexer": "ipython3",
   "version": "3.11.12"
  }
 },
 "nbformat": 4,
 "nbformat_minor": 5
}
